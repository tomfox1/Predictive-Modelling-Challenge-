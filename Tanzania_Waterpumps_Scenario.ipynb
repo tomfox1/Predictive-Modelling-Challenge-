{
  "nbformat": 4,
  "nbformat_minor": 0,
  "metadata": {
    "colab": {
      "name": "Tanzania_Waterpumps_Scenario.ipynb",
      "version": "0.3.2",
      "provenance": [],
      "collapsed_sections": [],
      "include_colab_link": true
    },
    "kernelspec": {
      "name": "python3",
      "display_name": "Python 3"
    }
  },
  "cells": [
    {
      "cell_type": "markdown",
      "metadata": {
        "id": "view-in-github",
        "colab_type": "text"
      },
      "source": [
        "<a href=\"https://colab.research.google.com/github/tomfox1/Predictive-Modelling-Challenge-/blob/master/Tanzania_Waterpumps_Scenario.ipynb\" target=\"_parent\"><img src=\"https://colab.research.google.com/assets/colab-badge.svg\" alt=\"Open In Colab\"/></a>"
      ]
    },
    {
      "cell_type": "markdown",
      "metadata": {
        "id": "TbKo9pRFqXXO",
        "colab_type": "text"
      },
      "source": [
        "# Imagine this scenario ..."
      ]
    },
    {
      "cell_type": "code",
      "metadata": {
        "id": "Q-eywLQH0JXJ",
        "colab_type": "code",
        "outputId": "e9d5fd9d-bd11-41c3-8e01-cb8626728b7b",
        "colab": {
          "base_uri": "https://localhost:8080/",
          "height": 222
        }
      },
      "source": [
        "!pip install category_encoders"
      ],
      "execution_count": 0,
      "outputs": [
        {
          "output_type": "stream",
          "text": [
            "Requirement already satisfied: category_encoders in /usr/local/lib/python3.6/dist-packages (2.0.0)\n",
            "Requirement already satisfied: patsy>=0.4.1 in /usr/local/lib/python3.6/dist-packages (from category_encoders) (0.5.1)\n",
            "Requirement already satisfied: statsmodels>=0.6.1 in /usr/local/lib/python3.6/dist-packages (from category_encoders) (0.9.0)\n",
            "Requirement already satisfied: scikit-learn>=0.20.0 in /usr/local/lib/python3.6/dist-packages (from category_encoders) (0.21.1)\n",
            "Requirement already satisfied: scipy>=0.19.0 in /usr/local/lib/python3.6/dist-packages (from category_encoders) (1.3.0)\n",
            "Requirement already satisfied: pandas>=0.21.1 in /usr/local/lib/python3.6/dist-packages (from category_encoders) (0.24.2)\n",
            "Requirement already satisfied: numpy>=1.11.3 in /usr/local/lib/python3.6/dist-packages (from category_encoders) (1.16.3)\n",
            "Requirement already satisfied: six in /usr/local/lib/python3.6/dist-packages (from patsy>=0.4.1->category_encoders) (1.12.0)\n",
            "Requirement already satisfied: joblib>=0.11 in /usr/local/lib/python3.6/dist-packages (from scikit-learn>=0.20.0->category_encoders) (0.12.5)\n",
            "Requirement already satisfied: pytz>=2011k in /usr/local/lib/python3.6/dist-packages (from pandas>=0.21.1->category_encoders) (2018.9)\n",
            "Requirement already satisfied: python-dateutil>=2.5.0 in /usr/local/lib/python3.6/dist-packages (from pandas>=0.21.1->category_encoders) (2.5.3)\n"
          ],
          "name": "stdout"
        }
      ]
    },
    {
      "cell_type": "code",
      "metadata": {
        "id": "ZALeIWLLowbX",
        "colab_type": "code",
        "outputId": "9e6f2b8e-63a0-4413-9797-5c048ab43ce1",
        "colab": {
          "base_uri": "https://localhost:8080/",
          "height": 50
        }
      },
      "source": [
        "import pandas as pd\n",
        "\n",
        "X_test = pd.read_csv('https://drive.google.com/uc?export=download&id=1350jvoAsNoQmsgfkmh4iSYqiOF2q6xFF')\n",
        "print(f'The test set has {len(X_test)} observations')\n",
        "\n",
        "X_train = pd.read_csv('https://drive.google.com/uc?export=download&id=1Bwj7iwO2RvN3x_LZeGnY3zgTY8aQPMMC')\n",
        "y_train = pd.read_csv('https://drive.google.com/uc?export=download&id=1dxe6zLADkJwgI-i4NYjbkZFCh2ANrIhB')['status_group']\n",
        "print(f'The train set has {len(X_train)} observations')"
      ],
      "execution_count": 0,
      "outputs": [
        {
          "output_type": "stream",
          "text": [
            "The test set has 14358 observations\n",
            "The train set has 59400 observations\n"
          ],
          "name": "stdout"
        }
      ]
    },
    {
      "cell_type": "markdown",
      "metadata": {
        "id": "tR1sEJwQpL_S",
        "colab_type": "text"
      },
      "source": [
        "Suppose there are over 14,000 waterpumps that you _do_ have some information about, but you _don't_ know whether they are currently functional, or functional but need repair, or non-functional.\n",
        "\n",
        "You have the time and resources to go to just 2,000 waterpumps for proactive maintenance. You want to predict, which 2,000 are most likely non-functional or in need of repair, to help you triage and prioritize your waterpump inspections. \n",
        "\n",
        "You have historical inspection data for over 59,000 other waterpumps, which you'll use to fit your predictive model.\n",
        "\n",
        "Based on this historical data, if you randomly chose waterpumps to inspect, then about 46% of the waterpumps would need repairs, and 54% would not need repairs. Can you do better than random at prioritizing inspections?"
      ]
    },
    {
      "cell_type": "code",
      "metadata": {
        "id": "hV7y7NaFq6q-",
        "colab_type": "code",
        "outputId": "1b02e5ac-44c8-4385-b6e9-a4ec1ab75a9b",
        "colab": {
          "base_uri": "https://localhost:8080/",
          "height": 84
        }
      },
      "source": [
        "y_train.value_counts(normalize=True)"
      ],
      "execution_count": 0,
      "outputs": [
        {
          "output_type": "execute_result",
          "data": {
            "text/plain": [
              "functional                 0.543081\n",
              "non functional             0.384242\n",
              "functional needs repair    0.072677\n",
              "Name: status_group, dtype: float64"
            ]
          },
          "metadata": {
            "tags": []
          },
          "execution_count": 3
        }
      ]
    },
    {
      "cell_type": "markdown",
      "metadata": {
        "id": "1RNt-F0zsG4N",
        "colab_type": "text"
      },
      "source": [
        "In this scenario, we should define our target differently. We want to identify which waterpumps are non-functional _or_ are functional but needs repair:"
      ]
    },
    {
      "cell_type": "code",
      "metadata": {
        "id": "5G0FZmTvrtRO",
        "colab_type": "code",
        "outputId": "e10e9426-8bd2-41cc-b529-83731422194b",
        "colab": {
          "base_uri": "https://localhost:8080/",
          "height": 67
        }
      },
      "source": [
        "y_train = y_train != 'functional'\n",
        "y_train.value_counts(normalize=True)"
      ],
      "execution_count": 0,
      "outputs": [
        {
          "output_type": "execute_result",
          "data": {
            "text/plain": [
              "False    0.543081\n",
              "True     0.456919\n",
              "Name: status_group, dtype: float64"
            ]
          },
          "metadata": {
            "tags": []
          },
          "execution_count": 4
        }
      ]
    },
    {
      "cell_type": "markdown",
      "metadata": {
        "id": "ESNdL48OsQ23",
        "colab_type": "text"
      },
      "source": [
        "And in this scenario, accuracy isn't the best metric!\n",
        "\n",
        "Instead, let's use something more similar to **Precision@K**, where k=2,000.\n",
        "\n",
        "Read more here: [Recall and Precision at k for Recommender Systems: Detailed Explanation with examples](https://medium.com/@m_n_malaeb/recall-and-precision-at-k-for-recommender-systems-618483226c54)\n",
        "\n",
        "> Precision at k is the proportion of recommended items in the top-k set that are relevant\n",
        "\n",
        "> Mathematically precision@k is defined as: `Precision@k = (# of recommended items @k that are relevant) / (# of recommended items @k)`\n",
        "\n",
        "> In the context of recommendation systems we are most likely interested in recommending top-N items to the user. So it makes more sense to compute precision and recall metrics in the first N items instead of all the items. Thus the notion of precision and recall at k where k is a user definable integer that is set by the user to match the top-N recommendations objective.\n",
        "\n",
        "Really what we want is like that, but even simpler... we want to make exactly 2,000 positive predictions, to recommend which 2,000 waterpumps to inspect, and then see how many of our recommendations were relevant.\n",
        "\n",
        "---\n",
        "\n",
        "So, let's make a validation set the same size as our test set."
      ]
    },
    {
      "cell_type": "code",
      "metadata": {
        "id": "Ede3ycS4vuWG",
        "colab_type": "code",
        "outputId": "5d4e26c4-c7c3-4145-caef-4954f798be5a",
        "colab": {
          "base_uri": "https://localhost:8080/",
          "height": 34
        }
      },
      "source": [
        "from sklearn.model_selection import train_test_split\n",
        "\n",
        "X_train, X_val, y_train, y_val = train_test_split(\n",
        "    X_train, y_train, test_size=len(X_test), stratify=y_train, random_state=42)\n",
        "\n",
        "X_train.shape, X_val.shape, X_test.shape"
      ],
      "execution_count": 0,
      "outputs": [
        {
          "output_type": "execute_result",
          "data": {
            "text/plain": [
              "((45042, 40), (14358, 40), (14358, 40))"
            ]
          },
          "metadata": {
            "tags": []
          },
          "execution_count": 5
        }
      ]
    },
    {
      "cell_type": "markdown",
      "metadata": {
        "id": "hXS5OMe7wPth",
        "colab_type": "text"
      },
      "source": [
        "Then fit a model. (This is just a quick example, but you can and should make a better model than this!)"
      ]
    },
    {
      "cell_type": "code",
      "metadata": {
        "id": "27xqGHyOwIOd",
        "colab_type": "code",
        "outputId": "328a2bc5-2443-427f-9a54-0cf5c3c34503",
        "colab": {
          "base_uri": "https://localhost:8080/",
          "height": 134
        }
      },
      "source": [
        "import category_encoders as ce\n",
        "from sklearn.ensemble import RandomForestClassifier\n",
        "\n",
        "features = ['longitude', 'latitude', 'quantity']\n",
        "encoder = ce.OrdinalEncoder()\n",
        "X_train_encoded = encoder.fit_transform(X_train[features])\n",
        "X_val_encoded = encoder.transform(X_val[features])\n",
        "model = RandomForestClassifier(n_estimators=100, class_weight='balanced', n_jobs=-1, random_state=42)\n",
        "model.fit(X_train_encoded, y_train)"
      ],
      "execution_count": 0,
      "outputs": [
        {
          "output_type": "execute_result",
          "data": {
            "text/plain": [
              "RandomForestClassifier(bootstrap=True, class_weight='balanced',\n",
              "                       criterion='gini', max_depth=None, max_features='auto',\n",
              "                       max_leaf_nodes=None, min_impurity_decrease=0.0,\n",
              "                       min_impurity_split=None, min_samples_leaf=1,\n",
              "                       min_samples_split=2, min_weight_fraction_leaf=0.0,\n",
              "                       n_estimators=100, n_jobs=-1, oob_score=False,\n",
              "                       random_state=42, verbose=0, warm_start=False)"
            ]
          },
          "metadata": {
            "tags": []
          },
          "execution_count": 6
        }
      ]
    },
    {
      "cell_type": "markdown",
      "metadata": {
        "id": "E2_gqlKdwiYE",
        "colab_type": "text"
      },
      "source": [
        "Then get predicted probabilities for the positive class, in the validation set."
      ]
    },
    {
      "cell_type": "code",
      "metadata": {
        "id": "40gq-4jxweO_",
        "colab_type": "code",
        "colab": {}
      },
      "source": [
        "y_pred_proba = model.predict_proba(X_val_encoded)[:,1]"
      ],
      "execution_count": 0,
      "outputs": []
    },
    {
      "cell_type": "markdown",
      "metadata": {
        "id": "JJvHKmW9xj01",
        "colab_type": "text"
      },
      "source": [
        "The predicted probabilities range from 0 to 1, as expected."
      ]
    },
    {
      "cell_type": "code",
      "metadata": {
        "id": "Dmj_cTslxI7O",
        "colab_type": "code",
        "outputId": "8615fe57-37ed-48bc-9301-1aca6a7a586c",
        "colab": {
          "base_uri": "https://localhost:8080/",
          "height": 168
        }
      },
      "source": [
        "pd.Series(y_pred_proba).describe()"
      ],
      "execution_count": 0,
      "outputs": [
        {
          "output_type": "execute_result",
          "data": {
            "text/plain": [
              "count    14358.000000\n",
              "mean         0.456897\n",
              "std          0.357175\n",
              "min          0.000000\n",
              "25%          0.110000\n",
              "50%          0.410000\n",
              "75%          0.800000\n",
              "max          1.000000\n",
              "dtype: float64"
            ]
          },
          "metadata": {
            "tags": []
          },
          "execution_count": 8
        }
      ]
    },
    {
      "cell_type": "markdown",
      "metadata": {
        "id": "JTIkDp8Sw1n3",
        "colab_type": "text"
      },
      "source": [
        "Identify the 2,000 waterpumps in the validation set with highest predicted probabilities."
      ]
    },
    {
      "cell_type": "code",
      "metadata": {
        "id": "vb5RJEo5wmTt",
        "colab_type": "code",
        "colab": {}
      },
      "source": [
        "results = pd.DataFrame({'y_val': y_val, 'y_pred_proba': y_pred_proba})\n",
        "top2000 = results.sort_values(by='y_pred_proba', ascending=False)[:2000]"
      ],
      "execution_count": 0,
      "outputs": []
    },
    {
      "cell_type": "markdown",
      "metadata": {
        "id": "0zo38_9Kx3ys",
        "colab_type": "text"
      },
      "source": [
        "Most of these top 2,000 waterpumps will be relevant recommendations, meaning `y_val==True`, meaning the waterpump is non-functional or needs repairs.\n",
        "\n",
        "Some of these top 2,000 waterpumps will be irrelevant recommendations, meaning `y_val==False`, meaning the waterpump is functional and does not need repairs."
      ]
    },
    {
      "cell_type": "code",
      "metadata": {
        "id": "qg7HWp06wyJ4",
        "colab_type": "code",
        "outputId": "ea1d5ca7-e4fd-40ba-9ed6-0e0ae3e37fc3",
        "colab": {
          "base_uri": "https://localhost:8080/",
          "height": 1527
        }
      },
      "source": [
        "top2000.sample(n=50)"
      ],
      "execution_count": 0,
      "outputs": [
        {
          "output_type": "execute_result",
          "data": {
            "text/html": [
              "<div>\n",
              "<style scoped>\n",
              "    .dataframe tbody tr th:only-of-type {\n",
              "        vertical-align: middle;\n",
              "    }\n",
              "\n",
              "    .dataframe tbody tr th {\n",
              "        vertical-align: top;\n",
              "    }\n",
              "\n",
              "    .dataframe thead th {\n",
              "        text-align: right;\n",
              "    }\n",
              "</style>\n",
              "<table border=\"1\" class=\"dataframe\">\n",
              "  <thead>\n",
              "    <tr style=\"text-align: right;\">\n",
              "      <th></th>\n",
              "      <th>y_val</th>\n",
              "      <th>y_pred_proba</th>\n",
              "    </tr>\n",
              "  </thead>\n",
              "  <tbody>\n",
              "    <tr>\n",
              "      <th>50807</th>\n",
              "      <td>True</td>\n",
              "      <td>1.00000</td>\n",
              "    </tr>\n",
              "    <tr>\n",
              "      <th>10359</th>\n",
              "      <td>True</td>\n",
              "      <td>1.00000</td>\n",
              "    </tr>\n",
              "    <tr>\n",
              "      <th>47911</th>\n",
              "      <td>True</td>\n",
              "      <td>1.00000</td>\n",
              "    </tr>\n",
              "    <tr>\n",
              "      <th>26671</th>\n",
              "      <td>True</td>\n",
              "      <td>1.00000</td>\n",
              "    </tr>\n",
              "    <tr>\n",
              "      <th>4335</th>\n",
              "      <td>True</td>\n",
              "      <td>0.98000</td>\n",
              "    </tr>\n",
              "    <tr>\n",
              "      <th>48737</th>\n",
              "      <td>True</td>\n",
              "      <td>1.00000</td>\n",
              "    </tr>\n",
              "    <tr>\n",
              "      <th>26016</th>\n",
              "      <td>True</td>\n",
              "      <td>0.98000</td>\n",
              "    </tr>\n",
              "    <tr>\n",
              "      <th>13478</th>\n",
              "      <td>True</td>\n",
              "      <td>1.00000</td>\n",
              "    </tr>\n",
              "    <tr>\n",
              "      <th>38679</th>\n",
              "      <td>True</td>\n",
              "      <td>1.00000</td>\n",
              "    </tr>\n",
              "    <tr>\n",
              "      <th>28315</th>\n",
              "      <td>True</td>\n",
              "      <td>1.00000</td>\n",
              "    </tr>\n",
              "    <tr>\n",
              "      <th>4441</th>\n",
              "      <td>True</td>\n",
              "      <td>0.97000</td>\n",
              "    </tr>\n",
              "    <tr>\n",
              "      <th>29110</th>\n",
              "      <td>True</td>\n",
              "      <td>1.00000</td>\n",
              "    </tr>\n",
              "    <tr>\n",
              "      <th>49411</th>\n",
              "      <td>True</td>\n",
              "      <td>1.00000</td>\n",
              "    </tr>\n",
              "    <tr>\n",
              "      <th>13321</th>\n",
              "      <td>False</td>\n",
              "      <td>0.97000</td>\n",
              "    </tr>\n",
              "    <tr>\n",
              "      <th>18167</th>\n",
              "      <td>True</td>\n",
              "      <td>1.00000</td>\n",
              "    </tr>\n",
              "    <tr>\n",
              "      <th>19981</th>\n",
              "      <td>True</td>\n",
              "      <td>1.00000</td>\n",
              "    </tr>\n",
              "    <tr>\n",
              "      <th>56611</th>\n",
              "      <td>True</td>\n",
              "      <td>1.00000</td>\n",
              "    </tr>\n",
              "    <tr>\n",
              "      <th>20370</th>\n",
              "      <td>True</td>\n",
              "      <td>0.99000</td>\n",
              "    </tr>\n",
              "    <tr>\n",
              "      <th>44840</th>\n",
              "      <td>True</td>\n",
              "      <td>1.00000</td>\n",
              "    </tr>\n",
              "    <tr>\n",
              "      <th>6793</th>\n",
              "      <td>True</td>\n",
              "      <td>0.98000</td>\n",
              "    </tr>\n",
              "    <tr>\n",
              "      <th>46141</th>\n",
              "      <td>True</td>\n",
              "      <td>0.98000</td>\n",
              "    </tr>\n",
              "    <tr>\n",
              "      <th>37021</th>\n",
              "      <td>True</td>\n",
              "      <td>1.00000</td>\n",
              "    </tr>\n",
              "    <tr>\n",
              "      <th>16921</th>\n",
              "      <td>True</td>\n",
              "      <td>1.00000</td>\n",
              "    </tr>\n",
              "    <tr>\n",
              "      <th>11797</th>\n",
              "      <td>True</td>\n",
              "      <td>1.00000</td>\n",
              "    </tr>\n",
              "    <tr>\n",
              "      <th>54749</th>\n",
              "      <td>True</td>\n",
              "      <td>1.00000</td>\n",
              "    </tr>\n",
              "    <tr>\n",
              "      <th>38777</th>\n",
              "      <td>True</td>\n",
              "      <td>1.00000</td>\n",
              "    </tr>\n",
              "    <tr>\n",
              "      <th>2847</th>\n",
              "      <td>True</td>\n",
              "      <td>1.00000</td>\n",
              "    </tr>\n",
              "    <tr>\n",
              "      <th>46253</th>\n",
              "      <td>True</td>\n",
              "      <td>1.00000</td>\n",
              "    </tr>\n",
              "    <tr>\n",
              "      <th>53028</th>\n",
              "      <td>True</td>\n",
              "      <td>0.99000</td>\n",
              "    </tr>\n",
              "    <tr>\n",
              "      <th>50711</th>\n",
              "      <td>True</td>\n",
              "      <td>1.00000</td>\n",
              "    </tr>\n",
              "    <tr>\n",
              "      <th>29856</th>\n",
              "      <td>True</td>\n",
              "      <td>1.00000</td>\n",
              "    </tr>\n",
              "    <tr>\n",
              "      <th>39662</th>\n",
              "      <td>True</td>\n",
              "      <td>1.00000</td>\n",
              "    </tr>\n",
              "    <tr>\n",
              "      <th>24077</th>\n",
              "      <td>False</td>\n",
              "      <td>0.98000</td>\n",
              "    </tr>\n",
              "    <tr>\n",
              "      <th>44250</th>\n",
              "      <td>True</td>\n",
              "      <td>1.00000</td>\n",
              "    </tr>\n",
              "    <tr>\n",
              "      <th>1185</th>\n",
              "      <td>True</td>\n",
              "      <td>0.97000</td>\n",
              "    </tr>\n",
              "    <tr>\n",
              "      <th>2650</th>\n",
              "      <td>True</td>\n",
              "      <td>0.98000</td>\n",
              "    </tr>\n",
              "    <tr>\n",
              "      <th>44772</th>\n",
              "      <td>True</td>\n",
              "      <td>1.00000</td>\n",
              "    </tr>\n",
              "    <tr>\n",
              "      <th>190</th>\n",
              "      <td>True</td>\n",
              "      <td>1.00000</td>\n",
              "    </tr>\n",
              "    <tr>\n",
              "      <th>32086</th>\n",
              "      <td>True</td>\n",
              "      <td>1.00000</td>\n",
              "    </tr>\n",
              "    <tr>\n",
              "      <th>2619</th>\n",
              "      <td>True</td>\n",
              "      <td>1.00000</td>\n",
              "    </tr>\n",
              "    <tr>\n",
              "      <th>30413</th>\n",
              "      <td>True</td>\n",
              "      <td>0.99000</td>\n",
              "    </tr>\n",
              "    <tr>\n",
              "      <th>51082</th>\n",
              "      <td>True</td>\n",
              "      <td>1.00000</td>\n",
              "    </tr>\n",
              "    <tr>\n",
              "      <th>27790</th>\n",
              "      <td>True</td>\n",
              "      <td>0.98712</td>\n",
              "    </tr>\n",
              "    <tr>\n",
              "      <th>57817</th>\n",
              "      <td>True</td>\n",
              "      <td>1.00000</td>\n",
              "    </tr>\n",
              "    <tr>\n",
              "      <th>28601</th>\n",
              "      <td>True</td>\n",
              "      <td>0.99000</td>\n",
              "    </tr>\n",
              "    <tr>\n",
              "      <th>16031</th>\n",
              "      <td>True</td>\n",
              "      <td>1.00000</td>\n",
              "    </tr>\n",
              "    <tr>\n",
              "      <th>26573</th>\n",
              "      <td>True</td>\n",
              "      <td>0.98000</td>\n",
              "    </tr>\n",
              "    <tr>\n",
              "      <th>5538</th>\n",
              "      <td>True</td>\n",
              "      <td>0.99000</td>\n",
              "    </tr>\n",
              "    <tr>\n",
              "      <th>33066</th>\n",
              "      <td>True</td>\n",
              "      <td>0.97000</td>\n",
              "    </tr>\n",
              "    <tr>\n",
              "      <th>40509</th>\n",
              "      <td>True</td>\n",
              "      <td>0.98000</td>\n",
              "    </tr>\n",
              "  </tbody>\n",
              "</table>\n",
              "</div>"
            ],
            "text/plain": [
              "       y_val  y_pred_proba\n",
              "50807   True       1.00000\n",
              "10359   True       1.00000\n",
              "47911   True       1.00000\n",
              "26671   True       1.00000\n",
              "4335    True       0.98000\n",
              "48737   True       1.00000\n",
              "26016   True       0.98000\n",
              "13478   True       1.00000\n",
              "38679   True       1.00000\n",
              "28315   True       1.00000\n",
              "4441    True       0.97000\n",
              "29110   True       1.00000\n",
              "49411   True       1.00000\n",
              "13321  False       0.97000\n",
              "18167   True       1.00000\n",
              "19981   True       1.00000\n",
              "56611   True       1.00000\n",
              "20370   True       0.99000\n",
              "44840   True       1.00000\n",
              "6793    True       0.98000\n",
              "46141   True       0.98000\n",
              "37021   True       1.00000\n",
              "16921   True       1.00000\n",
              "11797   True       1.00000\n",
              "54749   True       1.00000\n",
              "38777   True       1.00000\n",
              "2847    True       1.00000\n",
              "46253   True       1.00000\n",
              "53028   True       0.99000\n",
              "50711   True       1.00000\n",
              "29856   True       1.00000\n",
              "39662   True       1.00000\n",
              "24077  False       0.98000\n",
              "44250   True       1.00000\n",
              "1185    True       0.97000\n",
              "2650    True       0.98000\n",
              "44772   True       1.00000\n",
              "190     True       1.00000\n",
              "32086   True       1.00000\n",
              "2619    True       1.00000\n",
              "30413   True       0.99000\n",
              "51082   True       1.00000\n",
              "27790   True       0.98712\n",
              "57817   True       1.00000\n",
              "28601   True       0.99000\n",
              "16031   True       1.00000\n",
              "26573   True       0.98000\n",
              "5538    True       0.99000\n",
              "33066   True       0.97000\n",
              "40509   True       0.98000"
            ]
          },
          "metadata": {
            "tags": []
          },
          "execution_count": 12
        }
      ]
    },
    {
      "cell_type": "markdown",
      "metadata": {
        "id": "S_pu_pnjyNMG",
        "colab_type": "text"
      },
      "source": [
        "So how many of our recommendations were relevant? ..."
      ]
    },
    {
      "cell_type": "code",
      "metadata": {
        "id": "KqkXY_AGyWrM",
        "colab_type": "code",
        "outputId": "4f029dc1-8f9e-43b2-83ac-38e47b5d1090",
        "colab": {
          "base_uri": "https://localhost:8080/",
          "height": 34
        }
      },
      "source": [
        " top2000['y_val'].sum()"
      ],
      "execution_count": 0,
      "outputs": [
        {
          "output_type": "execute_result",
          "data": {
            "text/plain": [
              "1926"
            ]
          },
          "metadata": {
            "tags": []
          },
          "execution_count": 13
        }
      ]
    },
    {
      "cell_type": "markdown",
      "metadata": {
        "id": "GrSqtbSmzFJs",
        "colab_type": "text"
      },
      "source": [
        "In the validation set, we successfully identified over 1,900 waterpumps in need of repair!\n",
        "\n",
        "So we will use this predictive model with the dataset of over 14,000 waterpumps that we _do_ have some information about, but we _don't_ know whether they are currently functional, or functional but need repair, or non-functional.\n",
        "\n",
        "We will predict which 2,000 are most likely non-functional or in need of repair.\n",
        "\n",
        "We estimate that approximately 1,900 waterpumps will be repaired after these 2,000 maintenance visits.\n",
        "\n",
        "If we had randomly chosen waterpumps to inspect, we estimate that only 920 waterpumps would be repaired after 2,000 maintenance visits. (46%)\n",
        "\n",
        "So we're confident that our predictive model will help triage and prioritize waterpump inspections!"
      ]
    }
  ]
}